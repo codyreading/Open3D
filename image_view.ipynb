{
 "cells": [
  {
   "cell_type": "code",
   "execution_count": 12,
   "metadata": {},
   "outputs": [
    {
     "name": "stdout",
     "output_type": "stream",
     "text": [
      "Image mode: I\n",
      "Image max: 3747\n",
      "Image min: 0\n"
     ]
    }
   ],
   "source": [
    "from PIL import Image\n",
    "import numpy as np\n",
    "\n",
    "path = \"/home/cra80/open3d_data/extract/LoungeRGBDImages/depth/000001.png\"\n",
    "\n",
    "image = Image.open(path)\n",
    "print(\"Image mode:\", image.mode)\n",
    "\n",
    "image = np.array(image)\n",
    "\n",
    "\n",
    "print(\"Image max:\", image.max())\n",
    "print(\"Image min:\", image.min())\n",
    "\n",
    "\n"
   ]
  }
 ],
 "metadata": {
  "kernelspec": {
   "display_name": "threestudio",
   "language": "python",
   "name": "python3"
  },
  "language_info": {
   "codemirror_mode": {
    "name": "ipython",
    "version": 3
   },
   "file_extension": ".py",
   "mimetype": "text/x-python",
   "name": "python",
   "nbconvert_exporter": "python",
   "pygments_lexer": "ipython3",
   "version": "3.10.14"
  }
 },
 "nbformat": 4,
 "nbformat_minor": 2
}
