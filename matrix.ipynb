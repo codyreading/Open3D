{
 "cells": [
  {
   "cell_type": "code",
   "execution_count": 43,
   "metadata": {},
   "outputs": [
    {
     "name": "stdout",
     "output_type": "stream",
     "text": [
      "[[ 1.    0.07 -0.06  1.71]\n",
      " [-0.07  1.    0.05  1.41]\n",
      " [ 0.07 -0.04  1.   -0.35]\n",
      " [ 0.    0.    0.    1.  ]]\n",
      "0.9952207825,\n",
      "-0.0701019649,\n",
      "0.0679793744,\n",
      "0.0,\n",
      "0.0731495135,\n",
      "0.9963749464,\n",
      "-0.0434252669,\n",
      "0.0,\n",
      "-0.0646888104,\n",
      "0.0481903926,\n",
      "0.9967417319,\n",
      "0.0,\n",
      "1.7128454645,\n",
      "1.4146349002,\n",
      "-0.3505739308,\n",
      "1.0,\n"
     ]
    }
   ],
   "source": [
    "from pathlib import Path\n",
    "import numpy as np\n",
    "np.set_printoptions(precision=2)\n",
    "\n",
    "# path = Path(\"/home/cra80/Projects/threestudio-sketch/outputs/mvdream+sd-increased_weights/teapot_001@20240409-035530/save/open3d/extrinsics\")\n",
    "# name = \"{:06d}.log\".format(105)\n",
    "\n",
    "# path = path / name\n",
    "\n",
    "# # Load the data from the file\n",
    "# with open(path, 'r') as file:\n",
    "#     lines = file.readlines()\n",
    "\n",
    "# # Parse the lines into a numpy array\n",
    "# matrix = np.array([list(map(float, line.split())) for line in lines[1:]])\n",
    "\n",
    "# String representation of the data\n",
    "data_str = \"\"\"0.6622468269\t0.3453573853\t-0.6649501792\t2.1576304963\n",
    "-0.0657341728\t0.9108003932\t0.4075784509\t1.2549109293\n",
    "0.7463989820\t-0.2262069937\t0.6258774298\t0.1949499389\n",
    "0.0000000000\t0.0000000000\t0.0000000000\t1.0000000000\"\"\"\n",
    "matrix = np.array([[float(num) for num in line.split()] for line in data_str.split('\\n')])\n",
    "\n",
    "print(matrix)\n",
    "matrix = matrix.T.flatten()\n",
    "\n",
    "for value in matrix:\n",
    "    print(value, end=\",\\n\")"
   ]
  },
  {
   "cell_type": "markdown",
   "metadata": {},
   "source": []
  }
 ],
 "metadata": {
  "kernelspec": {
   "display_name": "threestudio",
   "language": "python",
   "name": "python3"
  },
  "language_info": {
   "codemirror_mode": {
    "name": "ipython",
    "version": 3
   },
   "file_extension": ".py",
   "mimetype": "text/x-python",
   "name": "python",
   "nbconvert_exporter": "python",
   "pygments_lexer": "ipython3",
   "version": "3.10.14"
  }
 },
 "nbformat": 4,
 "nbformat_minor": 2
}
